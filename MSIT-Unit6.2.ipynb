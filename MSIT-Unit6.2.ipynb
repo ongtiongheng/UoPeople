{
  "nbformat": 4,
  "nbformat_minor": 0,
  "metadata": {
    "colab": {
      "provenance": [],
      "authorship_tag": "ABX9TyOi82mODLPC/RguM9bIIyUD",
      "include_colab_link": true
    },
    "kernelspec": {
      "name": "python3",
      "display_name": "Python 3"
    },
    "language_info": {
      "name": "python"
    }
  },
  "cells": [
    {
      "cell_type": "markdown",
      "metadata": {
        "id": "view-in-github",
        "colab_type": "text"
      },
      "source": [
        "<a href=\"https://colab.research.google.com/github/ongtiongheng/UoPeople/blob/main/MSIT-Unit6.2.ipynb\" target=\"_parent\"><img src=\"https://colab.research.google.com/assets/colab-badge.svg\" alt=\"Open In Colab\"/></a>"
      ]
    },
    {
      "cell_type": "markdown",
      "source": [
        "Execute the following commands, screenshot all commands and output results in a Word document:\n",
        "\n",
        "Ping - This command is used to test connectivity between two nodes. Ping use ICMP (Internet Control Message Protocol) to communicate to other devices. You can ping host name or ip address using below command. For example: ping 172.28.0.12 or ping www.google.com/<server-ip-address>\n",
        "\n",
        "\n",
        "> $ping server-ip-address/www.google.com\n",
        "\n",
        "> $ping localhost\n",
        "\n",
        "> $hostname\n",
        "\n",
        "> $traceroute ip-address\n",
        "\n",
        "> $netstat\n",
        "\n",
        "> $netstat –t\n",
        "\n",
        "> $netstat –s –t\n",
        "\n",
        "> $netstat -i\n",
        "\n",
        "> $/sbin/ifconfig\n",
        "\n",
        "> $who\n",
        "\n",
        "> $whoami\n",
        "\n",
        "> $nmap ip-address/172.28.0.12\n",
        "\n",
        "> $nmap server-ip-address/www.google.com\n",
        "\n",
        "> $tcpdump\n"
      ],
      "metadata": {
        "id": "_r4D_Y-Bp_0N"
      }
    },
    {
      "cell_type": "code",
      "execution_count": 1,
      "metadata": {
        "id": "DR4SYcb1kwnu",
        "colab": {
          "base_uri": "https://localhost:8080/"
        },
        "outputId": "68877a4a-c636-4876-d1a8-4b8797798543"
      },
      "outputs": [
        {
          "output_type": "stream",
          "name": "stdout",
          "text": [
            "/bin/bash: line 1: ping: command not found\n"
          ]
        }
      ],
      "source": [
        "!ping www.google.com"
      ]
    },
    {
      "cell_type": "code",
      "source": [
        "!apt install iputils-ping"
      ],
      "metadata": {
        "colab": {
          "base_uri": "https://localhost:8080/"
        },
        "id": "1jXuqSphl8ro",
        "outputId": "4e8439e1-28d2-44a6-db6d-75bc99f8dc70"
      },
      "execution_count": 2,
      "outputs": [
        {
          "output_type": "stream",
          "name": "stdout",
          "text": [
            "Reading package lists... Done\n",
            "Building dependency tree... Done\n",
            "Reading state information... Done\n",
            "The following NEW packages will be installed:\n",
            "  iputils-ping\n",
            "0 upgraded, 1 newly installed, 0 to remove and 8 not upgraded.\n",
            "Need to get 42.9 kB of archives.\n",
            "After this operation, 116 kB of additional disk space will be used.\n",
            "Get:1 http://archive.ubuntu.com/ubuntu jammy/main amd64 iputils-ping amd64 3:20211215-1 [42.9 kB]\n",
            "Fetched 42.9 kB in 0s (97.1 kB/s)\n",
            "Selecting previously unselected package iputils-ping.\n",
            "(Reading database ... 120509 files and directories currently installed.)\n",
            "Preparing to unpack .../iputils-ping_3%3a20211215-1_amd64.deb ...\n",
            "Unpacking iputils-ping (3:20211215-1) ...\n",
            "Setting up iputils-ping (3:20211215-1) ...\n",
            "Processing triggers for man-db (2.10.2-1) ...\n"
          ]
        }
      ]
    },
    {
      "cell_type": "code",
      "source": [
        "!ping -c 2 www.google.com"
      ],
      "metadata": {
        "colab": {
          "base_uri": "https://localhost:8080/"
        },
        "id": "ORVfuSyrmb6m",
        "outputId": "3ea1ba45-58fa-4d78-bff1-ac0e1862d421"
      },
      "execution_count": 3,
      "outputs": [
        {
          "output_type": "stream",
          "name": "stdout",
          "text": [
            "PING www.google.com (173.194.218.106) 56(84) bytes of data.\n",
            "64 bytes from vx-in-f106.1e100.net (173.194.218.106): icmp_seq=1 ttl=114 time=1.01 ms\n",
            "64 bytes from vx-in-f106.1e100.net (173.194.218.106): icmp_seq=2 ttl=114 time=0.422 ms\n",
            "\n",
            "--- www.google.com ping statistics ---\n",
            "2 packets transmitted, 2 received, 0% packet loss, time 1002ms\n",
            "rtt min/avg/max/mdev = 0.422/0.714/1.007/0.292 ms\n"
          ]
        }
      ]
    },
    {
      "cell_type": "code",
      "source": [
        "!ping localhost"
      ],
      "metadata": {
        "colab": {
          "base_uri": "https://localhost:8080/"
        },
        "id": "EWe9vP0XmuOP",
        "outputId": "1f35dfe1-bb74-43c8-c08a-1c977733e908"
      },
      "execution_count": 4,
      "outputs": [
        {
          "output_type": "stream",
          "name": "stdout",
          "text": [
            "PING localhost (127.0.0.1) 56(84) bytes of data.\n",
            "64 bytes from localhost (127.0.0.1): icmp_seq=1 ttl=64 time=0.035 ms\n",
            "64 bytes from localhost (127.0.0.1): icmp_seq=2 ttl=64 time=0.041 ms\n",
            "64 bytes from localhost (127.0.0.1): icmp_seq=3 ttl=64 time=0.039 ms\n",
            "64 bytes from localhost (127.0.0.1): icmp_seq=4 ttl=64 time=0.039 ms\n",
            "\n",
            "--- localhost ping statistics ---\n",
            "4 packets transmitted, 4 received, 0% packet loss, time 3106ms\n",
            "rtt min/avg/max/mdev = 0.035/0.038/0.041/0.002 ms\n"
          ]
        }
      ]
    },
    {
      "cell_type": "code",
      "source": [
        "!hostname"
      ],
      "metadata": {
        "colab": {
          "base_uri": "https://localhost:8080/"
        },
        "id": "wFuLdJ8Im5FS",
        "outputId": "27d84d23-a63c-4810-cc65-14ffd4a2bc67"
      },
      "execution_count": 5,
      "outputs": [
        {
          "output_type": "stream",
          "name": "stdout",
          "text": [
            "f2679a670e89\n"
          ]
        }
      ]
    },
    {
      "cell_type": "code",
      "source": [
        "!traceroute www.google.com"
      ],
      "metadata": {
        "colab": {
          "base_uri": "https://localhost:8080/"
        },
        "id": "QzWkfDfgnEA-",
        "outputId": "715bb4b2-beff-4a2e-d5b3-65c490b4994e"
      },
      "execution_count": 6,
      "outputs": [
        {
          "output_type": "stream",
          "name": "stdout",
          "text": [
            "/bin/bash: line 1: traceroute: command not found\n"
          ]
        }
      ]
    },
    {
      "cell_type": "code",
      "source": [
        "!apt-get install traceroute"
      ],
      "metadata": {
        "colab": {
          "base_uri": "https://localhost:8080/"
        },
        "id": "2zxQCcPWnVf_",
        "outputId": "d2c96cad-37f8-4050-883c-a08bb6a6571a"
      },
      "execution_count": 7,
      "outputs": [
        {
          "output_type": "stream",
          "name": "stdout",
          "text": [
            "Reading package lists... Done\n",
            "Building dependency tree... Done\n",
            "Reading state information... Done\n",
            "The following NEW packages will be installed:\n",
            "  traceroute\n",
            "0 upgraded, 1 newly installed, 0 to remove and 8 not upgraded.\n",
            "Need to get 45.4 kB of archives.\n",
            "After this operation, 152 kB of additional disk space will be used.\n",
            "Get:1 http://archive.ubuntu.com/ubuntu jammy/universe amd64 traceroute amd64 1:2.1.0-2 [45.4 kB]\n",
            "Fetched 45.4 kB in 0s (209 kB/s)\n",
            "Selecting previously unselected package traceroute.\n",
            "(Reading database ... 120519 files and directories currently installed.)\n",
            "Preparing to unpack .../traceroute_1%3a2.1.0-2_amd64.deb ...\n",
            "Unpacking traceroute (1:2.1.0-2) ...\n",
            "Setting up traceroute (1:2.1.0-2) ...\n",
            "update-alternatives: using /usr/bin/traceroute.db to provide /usr/bin/traceroute (traceroute) in auto mode\n",
            "update-alternatives: using /usr/bin/traceroute6.db to provide /usr/bin/traceroute6 (traceroute6) in auto mode\n",
            "update-alternatives: using /usr/bin/lft.db to provide /usr/bin/lft (lft) in auto mode\n",
            "update-alternatives: using /usr/bin/traceproto.db to provide /usr/bin/traceproto (traceproto) in auto mode\n",
            "update-alternatives: using /usr/sbin/tcptraceroute.db to provide /usr/sbin/tcptraceroute (tcptraceroute) in auto mode\n",
            "Processing triggers for man-db (2.10.2-1) ...\n"
          ]
        }
      ]
    },
    {
      "cell_type": "code",
      "source": [
        "!traceroute www.google.com"
      ],
      "metadata": {
        "colab": {
          "base_uri": "https://localhost:8080/"
        },
        "id": "swkPIX8yndjx",
        "outputId": "06b401ed-11fb-41f6-82f8-3f497626c18b"
      },
      "execution_count": 8,
      "outputs": [
        {
          "output_type": "stream",
          "name": "stdout",
          "text": [
            "traceroute to www.google.com (173.194.213.99), 30 hops max, 60 byte packets\n",
            " 1  172.28.0.1 (172.28.0.1)  0.041 ms  0.015 ms  0.010 ms\n",
            " 2  * * *\n",
            " 3  142.250.57.86 (142.250.57.86)  1.537 ms 172.253.77.24 (172.253.77.24)  2.286 ms  1.978 ms\n",
            " 4  142.251.78.206 (142.251.78.206)  2.407 ms 142.251.247.224 (142.251.247.224)  19.026 ms 142.251.252.0 (142.251.252.0)  2.842 ms\n",
            " 5  142.251.227.222 (142.251.227.222)  1.009 ms 142.251.234.199 (142.251.234.199)  1.174 ms 209.85.250.234 (209.85.250.234)  1.622 ms\n",
            " 6  142.250.60.45 (142.250.60.45)  1.126 ms 108.170.229.201 (108.170.229.201)  0.551 ms 216.239.57.249 (216.239.57.249)  0.440 ms\n",
            " 7  * * *\n",
            " 8  * * *\n",
            " 9  * * *\n",
            "10  * * *\n",
            "11  * * *\n",
            "12  * * *\n",
            "13  * * *\n",
            "14  * * *\n",
            "15  * * *\n",
            "16  vr-in-f99.1e100.net (173.194.213.99)  0.626 ms  0.378 ms  0.333 ms\n"
          ]
        }
      ]
    },
    {
      "cell_type": "code",
      "source": [
        "!netstat"
      ],
      "metadata": {
        "colab": {
          "base_uri": "https://localhost:8080/"
        },
        "id": "4wvqas-_nrAv",
        "outputId": "a79b4a31-4789-46ad-9476-2c46a8f49340"
      },
      "execution_count": 9,
      "outputs": [
        {
          "output_type": "stream",
          "name": "stdout",
          "text": [
            "/bin/bash: line 1: netstat: command not found\n"
          ]
        }
      ]
    },
    {
      "cell_type": "code",
      "source": [
        "!apt install net-tools"
      ],
      "metadata": {
        "colab": {
          "base_uri": "https://localhost:8080/"
        },
        "id": "8imgfNxMnyDm",
        "outputId": "8683a8d6-d7b3-47a5-bca3-427dd9fee437"
      },
      "execution_count": 10,
      "outputs": [
        {
          "output_type": "stream",
          "name": "stdout",
          "text": [
            "Reading package lists... Done\n",
            "Building dependency tree... Done\n",
            "Reading state information... Done\n",
            "The following NEW packages will be installed:\n",
            "  net-tools\n",
            "0 upgraded, 1 newly installed, 0 to remove and 8 not upgraded.\n",
            "Need to get 204 kB of archives.\n",
            "After this operation, 819 kB of additional disk space will be used.\n",
            "Get:1 http://archive.ubuntu.com/ubuntu jammy/main amd64 net-tools amd64 1.60+git20181103.0eebece-1ubuntu5 [204 kB]\n",
            "Fetched 204 kB in 0s (1,060 kB/s)\n",
            "Selecting previously unselected package net-tools.\n",
            "(Reading database ... 120539 files and directories currently installed.)\n",
            "Preparing to unpack .../net-tools_1.60+git20181103.0eebece-1ubuntu5_amd64.deb ...\n",
            "Unpacking net-tools (1.60+git20181103.0eebece-1ubuntu5) ...\n",
            "Setting up net-tools (1.60+git20181103.0eebece-1ubuntu5) ...\n",
            "Processing triggers for man-db (2.10.2-1) ...\n"
          ]
        }
      ]
    },
    {
      "cell_type": "code",
      "source": [
        "!netstat"
      ],
      "metadata": {
        "colab": {
          "base_uri": "https://localhost:8080/"
        },
        "id": "tUMEPflMoAiw",
        "outputId": "4b880a17-26b8-4b45-f7b6-eecbd136a354"
      },
      "execution_count": 11,
      "outputs": [
        {
          "output_type": "stream",
          "name": "stdout",
          "text": [
            "Active Internet connections (w/o servers)\n",
            "Proto Recv-Q Send-Q Local Address           Foreign Address         State      \n",
            "tcp        0      0 localhost:47607         localhost:49288         ESTABLISHED\n",
            "tcp        0      0 f2679a670e89:6000       f2679a670e89:46690      TIME_WAIT  \n",
            "tcp        0      0 localhost:49288         localhost:47607         ESTABLISHED\n",
            "tcp        0      0 f2679a670e89:9000       f2679a670e89:42400      ESTABLISHED\n",
            "tcp        0      0 localhost:51080         localhost:36395         ESTABLISHED\n",
            "tcp        0      0 f2679a670e89:42400      f2679a670e89:9000       ESTABLISHED\n",
            "tcp        0      0 f2679a670e89:6000       f2679a670e89:39254      TIME_WAIT  \n",
            "tcp        0      0 f2679a670e89:6000       f2679a670e89:43328      TIME_WAIT  \n",
            "tcp     1258      0 f2679a670e89:41940      f2679a670e89:6000       ESTABLISHED\n",
            "tcp        0      0 f2679a670e89:40212      f2679a670e89:9000       ESTABLISHED\n",
            "tcp        0      0 f2679a670e89:6000       f2679a670e89:41940      ESTABLISHED\n",
            "tcp        0      0 f2679a670e89:6000       f2679a670e89:39246      TIME_WAIT  \n",
            "tcp        0      0 f2679a670e89:6000       f2679a670e89:39974      TIME_WAIT  \n",
            "tcp        0      0 f2679a670e89:51200      ubuntu-mirror-1.ps6.:80 TIME_WAIT  \n",
            "tcp        0      0 f2679a670e89:6000       172.28.0.1:46954        ESTABLISHED\n",
            "tcp        0   1818 localhost:36395         localhost:51080         ESTABLISHED\n",
            "tcp        0      0 f2679a670e89:9000       f2679a670e89:40212      ESTABLISHED\n",
            "tcp6       0      0 k_next.br0:8080         172.28.0.1:41392        TIME_WAIT  \n",
            "tcp6       0      0 k_next.br0:8080         172.28.0.1:35268        TIME_WAIT  \n",
            "tcp6       0      0 k_next.br0:8080         172.28.0.1:39448        ESTABLISHED\n",
            "tcp6       0      0 k_next.br0:8080         172.28.0.1:55548        ESTABLISHED\n",
            "tcp6       0      0 k_next.br0:8080         172.28.0.1:53288        TIME_WAIT  \n",
            "tcp6       0      0 k_next.br0:8080         172.28.0.1:56506        TIME_WAIT  \n",
            "tcp6       0      0 k_next.br0:8080         172.28.0.1:41384        TIME_WAIT  \n",
            "Active UNIX domain sockets (w/o servers)\n",
            "Proto RefCnt Flags       Type       State         I-Node   Path\n",
            "unix  3      [ ]         STREAM     CONNECTED     22616    \n",
            "unix  3      [ ]         STREAM     CONNECTED     22068    \n",
            "unix  3      [ ]         STREAM     CONNECTED     21244    /root/.local/share/jupyter/runtime/kernel-49efbc96-1af6-4b29-8b31-c32583a36c5b-ipc-2\n",
            "unix  3      [ ]         STREAM     CONNECTED     19649    \n",
            "unix  3      [ ]         STREAM     CONNECTED     18801    \n",
            "unix  3      [ ]         STREAM     CONNECTED     21255    /root/.local/share/jupyter/runtime/kernel-49efbc96-1af6-4b29-8b31-c32583a36c5b-ipc-1\n",
            "unix  3      [ ]         STREAM     CONNECTED     22613    \n",
            "unix  3      [ ]         STREAM     CONNECTED     19655    \n",
            "unix  3      [ ]         STREAM     CONNECTED     22153    \n",
            "unix  3      [ ]         STREAM     CONNECTED     21256    /root/.local/share/jupyter/runtime/kernel-49efbc96-1af6-4b29-8b31-c32583a36c5b-ipc-4\n",
            "unix  3      [ ]         STREAM     CONNECTED     19652    \n",
            "unix  3      [ ]         STREAM     CONNECTED     19688    \n",
            "unix  3      [ ]         STREAM     CONNECTED     19648    \n",
            "unix  3      [ ]         STREAM     CONNECTED     22615    \n",
            "unix  3      [ ]         STREAM     CONNECTED     19645    \n",
            "unix  3      [ ]         STREAM     CONNECTED     21243    \n",
            "unix  3      [ ]         STREAM     CONNECTED     22612    \n",
            "unix  3      [ ]         STREAM     CONNECTED     19644    \n",
            "unix  3      [ ]         STREAM     CONNECTED     22067    \n",
            "unix  3      [ ]         STREAM     CONNECTED     19653    \n",
            "unix  3      [ ]         STREAM     CONNECTED     22063    \n",
            "unix  3      [ ]         STREAM     CONNECTED     21241    \n",
            "unix  3      [ ]         STREAM     CONNECTED     19656    \n",
            "unix  3      [ ]         STREAM     CONNECTED     19646    \n",
            "unix  3      [ ]         STREAM     CONNECTED     22062    \n",
            "unix  3      [ ]         STREAM     CONNECTED     19647    \n",
            "unix  3      [ ]         STREAM     CONNECTED     22154    \n",
            "unix  3      [ ]         STREAM     CONNECTED     19657    \n",
            "unix  3      [ ]         STREAM     CONNECTED     21257    /root/.local/share/jupyter/runtime/kernel-49efbc96-1af6-4b29-8b31-c32583a36c5b-ipc-3\n",
            "unix  3      [ ]         STREAM     CONNECTED     22155    \n",
            "unix  3      [ ]         STREAM     CONNECTED     19654    \n",
            "unix  3      [ ]         STREAM     CONNECTED     18800    \n",
            "unix  3      [ ]         STREAM     CONNECTED     19687    \n",
            "unix  3      [ ]         STREAM     CONNECTED     21254    /root/.local/share/jupyter/runtime/kernel-49efbc96-1af6-4b29-8b31-c32583a36c5b-ipc-2\n",
            "unix  3      [ ]         STREAM     CONNECTED     22600    /tmp/debugger_27p6226h54\n",
            "unix  3      [ ]         STREAM     CONNECTED     22156    \n",
            "unix  3      [ ]         STREAM     CONNECTED     22614    \n",
            "unix  3      [ ]         STREAM     CONNECTED     21242    /root/.local/share/jupyter/runtime/kernel-49efbc96-1af6-4b29-8b31-c32583a36c5b-ipc-4\n",
            "unix  3      [ ]         STREAM     CONNECTED     22520    \n",
            "unix  3      [ ]         STREAM     CONNECTED     22617    \n"
          ]
        }
      ]
    },
    {
      "cell_type": "code",
      "source": [
        "!netstat –t"
      ],
      "metadata": {
        "colab": {
          "base_uri": "https://localhost:8080/"
        },
        "id": "KMOT_flfoG49",
        "outputId": "4ff15f6b-8ea6-4f29-d926-3f72b08b2b9b"
      },
      "execution_count": 12,
      "outputs": [
        {
          "output_type": "stream",
          "name": "stdout",
          "text": [
            "Active Internet connections (w/o servers)\n",
            "Proto Recv-Q Send-Q Local Address           Foreign Address         State      \n",
            "tcp        0      0 localhost:47607         localhost:49288         ESTABLISHED\n",
            "tcp        0      0 f2679a670e89:6000       f2679a670e89:47242      TIME_WAIT  \n",
            "tcp        0      0 f2679a670e89:6000       f2679a670e89:46690      TIME_WAIT  \n",
            "tcp        0      0 f2679a670e89:6000       f2679a670e89:47248      TIME_WAIT  \n",
            "tcp        0      0 localhost:49288         localhost:47607         ESTABLISHED\n",
            "tcp        0      0 f2679a670e89:6000       f2679a670e89:35910      TIME_WAIT  \n",
            "tcp        0      0 f2679a670e89:9000       f2679a670e89:42400      ESTABLISHED\n",
            "tcp        0      0 localhost:51080         localhost:36395         ESTABLISHED\n",
            "tcp        0      0 f2679a670e89:42400      f2679a670e89:9000       ESTABLISHED\n",
            "tcp        0      0 f2679a670e89:6000       f2679a670e89:43328      TIME_WAIT  \n",
            "tcp        0      0 f2679a670e89:41940      f2679a670e89:6000       ESTABLISHED\n",
            "tcp        0      0 f2679a670e89:40212      f2679a670e89:9000       ESTABLISHED\n",
            "tcp        0      0 f2679a670e89:6000       f2679a670e89:41940      ESTABLISHED\n",
            "tcp        0      0 f2679a670e89:6000       f2679a670e89:50504      TIME_WAIT  \n",
            "tcp        0      0 f2679a670e89:6000       f2679a670e89:50490      TIME_WAIT  \n",
            "tcp        0      0 f2679a670e89:6000       f2679a670e89:47244      TIME_WAIT  \n",
            "tcp        0      0 f2679a670e89:51200      ubuntu-mirror-1.ps6.:80 TIME_WAIT  \n",
            "tcp        0      0 f2679a670e89:6000       172.28.0.1:46954        ESTABLISHED\n",
            "tcp        0      0 localhost:36395         localhost:51080         ESTABLISHED\n",
            "tcp        0      0 f2679a670e89:6000       f2679a670e89:34142      TIME_WAIT  \n",
            "tcp        0      0 f2679a670e89:9000       f2679a670e89:40212      ESTABLISHED\n",
            "tcp6       0      0 k_next.br0:8080         172.28.0.1:53272        ESTABLISHED\n",
            "tcp6       0      0 k_next.br0:8080         172.28.0.1:35268        TIME_WAIT  \n",
            "tcp6       0      0 k_next.br0:8080         172.28.0.1:58798        TIME_WAIT  \n",
            "tcp6       0      0 k_next.br0:8080         172.28.0.1:53288        ESTABLISHED\n",
            "tcp6       0      0 k_next.br0:8080         172.28.0.1:56506        TIME_WAIT  \n",
            "tcp6       0      0 k_next.br0:8080         172.28.0.1:58782        TIME_WAIT  \n",
            "udp        0      0 f2679a670e89:58340      metadata.google.inte:53 ESTABLISHED\n",
            "Active UNIX domain sockets (w/o servers)\n",
            "Proto RefCnt Flags       Type       State         I-Node   Path\n",
            "unix  3      [ ]         STREAM     CONNECTED     22616    \n",
            "unix  3      [ ]         STREAM     CONNECTED     22068    \n",
            "unix  3      [ ]         STREAM     CONNECTED     21244    /root/.local/share/jupyter/runtime/kernel-49efbc96-1af6-4b29-8b31-c32583a36c5b-ipc-2\n",
            "unix  3      [ ]         STREAM     CONNECTED     19649    \n",
            "unix  3      [ ]         STREAM     CONNECTED     18801    \n",
            "unix  3      [ ]         STREAM     CONNECTED     21255    /root/.local/share/jupyter/runtime/kernel-49efbc96-1af6-4b29-8b31-c32583a36c5b-ipc-1\n",
            "unix  3      [ ]         STREAM     CONNECTED     22613    \n",
            "unix  3      [ ]         STREAM     CONNECTED     19655    \n",
            "unix  3      [ ]         STREAM     CONNECTED     22153    \n",
            "unix  3      [ ]         STREAM     CONNECTED     21256    /root/.local/share/jupyter/runtime/kernel-49efbc96-1af6-4b29-8b31-c32583a36c5b-ipc-4\n",
            "unix  3      [ ]         STREAM     CONNECTED     19652    \n",
            "unix  3      [ ]         STREAM     CONNECTED     19688    \n",
            "unix  3      [ ]         STREAM     CONNECTED     19648    \n",
            "unix  3      [ ]         STREAM     CONNECTED     22615    \n",
            "unix  3      [ ]         STREAM     CONNECTED     19645    \n",
            "unix  3      [ ]         STREAM     CONNECTED     21243    \n",
            "unix  3      [ ]         STREAM     CONNECTED     22612    \n",
            "unix  3      [ ]         STREAM     CONNECTED     19644    \n",
            "unix  3      [ ]         STREAM     CONNECTED     22067    \n",
            "unix  3      [ ]         STREAM     CONNECTED     19653    \n",
            "unix  3      [ ]         STREAM     CONNECTED     22063    \n",
            "unix  3      [ ]         STREAM     CONNECTED     21241    \n",
            "unix  3      [ ]         STREAM     CONNECTED     19656    \n",
            "unix  3      [ ]         STREAM     CONNECTED     19646    \n",
            "unix  3      [ ]         STREAM     CONNECTED     22062    \n",
            "unix  3      [ ]         STREAM     CONNECTED     19647    \n",
            "unix  3      [ ]         STREAM     CONNECTED     22154    \n",
            "unix  3      [ ]         STREAM     CONNECTED     19657    \n",
            "unix  3      [ ]         STREAM     CONNECTED     21257    /root/.local/share/jupyter/runtime/kernel-49efbc96-1af6-4b29-8b31-c32583a36c5b-ipc-3\n",
            "unix  3      [ ]         STREAM     CONNECTED     22155    \n",
            "unix  3      [ ]         STREAM     CONNECTED     19654    \n",
            "unix  3      [ ]         STREAM     CONNECTED     18800    \n",
            "unix  3      [ ]         STREAM     CONNECTED     19687    \n",
            "unix  3      [ ]         STREAM     CONNECTED     21254    /root/.local/share/jupyter/runtime/kernel-49efbc96-1af6-4b29-8b31-c32583a36c5b-ipc-2\n",
            "unix  3      [ ]         STREAM     CONNECTED     22600    /tmp/debugger_27p6226h54\n",
            "unix  3      [ ]         STREAM     CONNECTED     22156    \n",
            "unix  3      [ ]         STREAM     CONNECTED     22614    \n",
            "unix  3      [ ]         STREAM     CONNECTED     21242    /root/.local/share/jupyter/runtime/kernel-49efbc96-1af6-4b29-8b31-c32583a36c5b-ipc-4\n",
            "unix  3      [ ]         STREAM     CONNECTED     22520    \n",
            "unix  3      [ ]         STREAM     CONNECTED     22617    \n"
          ]
        }
      ]
    },
    {
      "cell_type": "code",
      "source": [
        "!netstat –s –t"
      ],
      "metadata": {
        "colab": {
          "base_uri": "https://localhost:8080/"
        },
        "id": "_y6XzVmdoQXo",
        "outputId": "64acfac9-3fcc-4119-d475-9a7debbd6c1d"
      },
      "execution_count": 13,
      "outputs": [
        {
          "output_type": "stream",
          "name": "stdout",
          "text": [
            "Active Internet connections (w/o servers)\n",
            "Proto Recv-Q Send-Q Local Address           Foreign Address         State      \n",
            "tcp        0      0 localhost:47607         localhost:49288         ESTABLISHED\n",
            "tcp        0      0 f2679a670e89:6000       f2679a670e89:49456      TIME_WAIT  \n",
            "tcp        0      0 f2679a670e89:6000       f2679a670e89:47248      TIME_WAIT  \n",
            "tcp        0      0 localhost:49288         localhost:47607         ESTABLISHED\n",
            "tcp        0      0 f2679a670e89:6000       f2679a670e89:60386      TIME_WAIT  \n",
            "tcp        0      0 f2679a670e89:6000       f2679a670e89:35910      TIME_WAIT  \n",
            "tcp        0      0 f2679a670e89:9000       f2679a670e89:42400      ESTABLISHED\n",
            "tcp        0      0 localhost:51080         localhost:36395         ESTABLISHED\n",
            "tcp        0      0 f2679a670e89:42400      f2679a670e89:9000       ESTABLISHED\n",
            "tcp        0    406 f2679a670e89:41940      f2679a670e89:6000       ESTABLISHED\n",
            "tcp        0    406 f2679a670e89:40212      f2679a670e89:9000       ESTABLISHED\n",
            "tcp        0      0 f2679a670e89:6000       f2679a670e89:41940      ESTABLISHED\n",
            "tcp        0      0 f2679a670e89:6000       f2679a670e89:50504      TIME_WAIT  \n",
            "tcp        0      0 f2679a670e89:6000       f2679a670e89:50490      TIME_WAIT  \n",
            "tcp        0      0 f2679a670e89:6000       f2679a670e89:47482      TIME_WAIT  \n",
            "tcp        0      0 f2679a670e89:6000       f2679a670e89:60400      TIME_WAIT  \n",
            "tcp        0      0 f2679a670e89:6000       172.28.0.1:46954        ESTABLISHED\n",
            "tcp        0      0 localhost:36395         localhost:51080         ESTABLISHED\n",
            "tcp        0      0 f2679a670e89:6000       f2679a670e89:34142      TIME_WAIT  \n",
            "tcp        0      0 f2679a670e89:6000       f2679a670e89:60372      TIME_WAIT  \n",
            "tcp        0      0 f2679a670e89:9000       f2679a670e89:40212      ESTABLISHED\n",
            "tcp6       0      0 k_next.br0:8080         172.28.0.1:53272        TIME_WAIT  \n",
            "tcp6       0      0 k_next.br0:8080         172.28.0.1:46694        ESTABLISHED\n",
            "tcp6       0      0 k_next.br0:8080         172.28.0.1:58798        TIME_WAIT  \n",
            "tcp6       0      0 k_next.br0:8080         172.28.0.1:53288        ESTABLISHED\n",
            "tcp6       0      0 k_next.br0:8080         172.28.0.1:58782        TIME_WAIT  \n",
            "tcp6       0      0 k_next.br0:8080         172.28.0.1:49468        TIME_WAIT  \n",
            "udp        0      0 f2679a670e89:38942      metadata.google.inte:53 ESTABLISHED\n",
            "Active UNIX domain sockets (w/o servers)\n",
            "Proto RefCnt Flags       Type       State         I-Node   Path\n",
            "unix  3      [ ]         STREAM     CONNECTED     22616    \n",
            "unix  3      [ ]         STREAM     CONNECTED     22068    \n",
            "unix  3      [ ]         STREAM     CONNECTED     21244    /root/.local/share/jupyter/runtime/kernel-49efbc96-1af6-4b29-8b31-c32583a36c5b-ipc-2\n",
            "unix  3      [ ]         STREAM     CONNECTED     19649    \n",
            "unix  3      [ ]         STREAM     CONNECTED     18801    \n",
            "unix  3      [ ]         STREAM     CONNECTED     21255    /root/.local/share/jupyter/runtime/kernel-49efbc96-1af6-4b29-8b31-c32583a36c5b-ipc-1\n",
            "unix  3      [ ]         STREAM     CONNECTED     22613    \n",
            "unix  3      [ ]         STREAM     CONNECTED     19655    \n",
            "unix  3      [ ]         STREAM     CONNECTED     22153    \n",
            "unix  3      [ ]         STREAM     CONNECTED     21256    /root/.local/share/jupyter/runtime/kernel-49efbc96-1af6-4b29-8b31-c32583a36c5b-ipc-4\n",
            "unix  3      [ ]         STREAM     CONNECTED     19652    \n",
            "unix  3      [ ]         STREAM     CONNECTED     19688    \n",
            "unix  3      [ ]         STREAM     CONNECTED     19648    \n",
            "unix  3      [ ]         STREAM     CONNECTED     22615    \n",
            "unix  3      [ ]         STREAM     CONNECTED     19645    \n",
            "unix  3      [ ]         STREAM     CONNECTED     21243    \n",
            "unix  3      [ ]         STREAM     CONNECTED     22612    \n",
            "unix  3      [ ]         STREAM     CONNECTED     19644    \n",
            "unix  3      [ ]         STREAM     CONNECTED     22067    \n",
            "unix  3      [ ]         STREAM     CONNECTED     19653    \n",
            "unix  3      [ ]         STREAM     CONNECTED     22063    \n",
            "unix  3      [ ]         STREAM     CONNECTED     21241    \n",
            "unix  3      [ ]         STREAM     CONNECTED     19656    \n",
            "unix  3      [ ]         STREAM     CONNECTED     19646    \n",
            "unix  3      [ ]         STREAM     CONNECTED     22062    \n",
            "unix  3      [ ]         STREAM     CONNECTED     19647    \n",
            "unix  3      [ ]         STREAM     CONNECTED     22154    \n",
            "unix  3      [ ]         STREAM     CONNECTED     19657    \n",
            "unix  3      [ ]         STREAM     CONNECTED     21257    /root/.local/share/jupyter/runtime/kernel-49efbc96-1af6-4b29-8b31-c32583a36c5b-ipc-3\n",
            "unix  3      [ ]         STREAM     CONNECTED     22155    \n",
            "unix  3      [ ]         STREAM     CONNECTED     19654    \n",
            "unix  3      [ ]         STREAM     CONNECTED     18800    \n",
            "unix  3      [ ]         STREAM     CONNECTED     19687    \n",
            "unix  3      [ ]         STREAM     CONNECTED     21254    /root/.local/share/jupyter/runtime/kernel-49efbc96-1af6-4b29-8b31-c32583a36c5b-ipc-2\n",
            "unix  3      [ ]         STREAM     CONNECTED     22600    /tmp/debugger_27p6226h54\n",
            "unix  3      [ ]         STREAM     CONNECTED     22156    \n",
            "unix  3      [ ]         STREAM     CONNECTED     22614    \n",
            "unix  3      [ ]         STREAM     CONNECTED     21242    /root/.local/share/jupyter/runtime/kernel-49efbc96-1af6-4b29-8b31-c32583a36c5b-ipc-4\n",
            "unix  3      [ ]         STREAM     CONNECTED     22520    \n",
            "unix  3      [ ]         STREAM     CONNECTED     22617    \n"
          ]
        }
      ]
    },
    {
      "cell_type": "code",
      "source": [
        "!netstat -i"
      ],
      "metadata": {
        "colab": {
          "base_uri": "https://localhost:8080/"
        },
        "id": "vGNzoVZ8oVJ7",
        "outputId": "de0ae8a1-9d05-40fb-f9f7-35c066cef736"
      },
      "execution_count": 14,
      "outputs": [
        {
          "output_type": "stream",
          "name": "stdout",
          "text": [
            "Kernel Interface table\n",
            "Iface      MTU    RX-OK RX-ERR RX-DRP RX-OVR    TX-OK TX-ERR TX-DRP TX-OVR Flg\n",
            "eth0      1500     2545      0      0 0          2063      0      0      0 BMRU\n",
            "lo       65536    16540      0      0 0         16540      0      0      0 LRU\n"
          ]
        }
      ]
    },
    {
      "cell_type": "code",
      "source": [
        "!/sbin/ifconfig"
      ],
      "metadata": {
        "colab": {
          "base_uri": "https://localhost:8080/"
        },
        "id": "xVVazRCyoblU",
        "outputId": "171610bf-ecc4-4c43-b9bd-b69acf3199c6"
      },
      "execution_count": 15,
      "outputs": [
        {
          "output_type": "stream",
          "name": "stdout",
          "text": [
            "eth0: flags=4163<UP,BROADCAST,RUNNING,MULTICAST>  mtu 1500\n",
            "        inet 172.28.0.12  netmask 255.255.0.0  broadcast 172.28.255.255\n",
            "        ether 02:42:ac:1c:00:0c  txqueuelen 0  (Ethernet)\n",
            "        RX packets 2619  bytes 1163500 (1.1 MB)\n",
            "        RX errors 0  dropped 0  overruns 0  frame 0\n",
            "        TX packets 2123  bytes 674333 (674.3 KB)\n",
            "        TX errors 0  dropped 0 overruns 0  carrier 0  collisions 0\n",
            "\n",
            "lo: flags=73<UP,LOOPBACK,RUNNING>  mtu 65536\n",
            "        inet 127.0.0.1  netmask 255.0.0.0\n",
            "        loop  txqueuelen 1000  (Local Loopback)\n",
            "        RX packets 17168  bytes 4803063 (4.8 MB)\n",
            "        RX errors 0  dropped 0  overruns 0  frame 0\n",
            "        TX packets 17168  bytes 4803063 (4.8 MB)\n",
            "        TX errors 0  dropped 0 overruns 0  carrier 0  collisions 0\n",
            "\n"
          ]
        }
      ]
    },
    {
      "cell_type": "code",
      "source": [
        "!who"
      ],
      "metadata": {
        "id": "j7r94WZRoe7C"
      },
      "execution_count": 16,
      "outputs": []
    },
    {
      "cell_type": "code",
      "source": [
        "!whoami"
      ],
      "metadata": {
        "colab": {
          "base_uri": "https://localhost:8080/"
        },
        "id": "sy8fK1Z9oilu",
        "outputId": "80d507c5-83f3-4453-a8f4-1d4cb8939482"
      },
      "execution_count": 17,
      "outputs": [
        {
          "output_type": "stream",
          "name": "stdout",
          "text": [
            "root\n"
          ]
        }
      ]
    },
    {
      "cell_type": "code",
      "source": [
        "!nmap 172.28.0.12"
      ],
      "metadata": {
        "colab": {
          "base_uri": "https://localhost:8080/"
        },
        "id": "ffjhPrX2owFz",
        "outputId": "59f5bafe-3022-4a9c-d808-020946a6211d"
      },
      "execution_count": 18,
      "outputs": [
        {
          "output_type": "stream",
          "name": "stdout",
          "text": [
            "/bin/bash: line 1: nmap: command not found\n"
          ]
        }
      ]
    },
    {
      "cell_type": "code",
      "source": [
        "!apt install nmap"
      ],
      "metadata": {
        "colab": {
          "base_uri": "https://localhost:8080/"
        },
        "id": "gvkMNztao67G",
        "outputId": "587dfc57-b7e3-4680-f0cb-4e1b5e0651b0"
      },
      "execution_count": 19,
      "outputs": [
        {
          "output_type": "stream",
          "name": "stdout",
          "text": [
            "Reading package lists... Done\n",
            "Building dependency tree... Done\n",
            "Reading state information... Done\n",
            "The following additional packages will be installed:\n",
            "  liblinear4 liblua5.3-0 libpcap0.8 lua-lpeg nmap-common\n",
            "Suggested packages:\n",
            "  liblinear-tools liblinear-dev ncat ndiff zenmap\n",
            "The following NEW packages will be installed:\n",
            "  liblinear4 liblua5.3-0 libpcap0.8 lua-lpeg nmap nmap-common\n",
            "0 upgraded, 6 newly installed, 0 to remove and 8 not upgraded.\n",
            "Need to get 6,029 kB of archives.\n",
            "After this operation, 26.5 MB of additional disk space will be used.\n",
            "Get:1 http://archive.ubuntu.com/ubuntu jammy/main amd64 libpcap0.8 amd64 1.10.1-4build1 [145 kB]\n",
            "Get:2 http://archive.ubuntu.com/ubuntu jammy/universe amd64 liblinear4 amd64 2.3.0+dfsg-5 [41.4 kB]\n",
            "Get:3 http://archive.ubuntu.com/ubuntu jammy/main amd64 liblua5.3-0 amd64 5.3.6-1build1 [140 kB]\n",
            "Get:4 http://archive.ubuntu.com/ubuntu jammy/universe amd64 lua-lpeg amd64 1.0.2-1 [31.4 kB]\n",
            "Get:5 http://archive.ubuntu.com/ubuntu jammy-updates/universe amd64 nmap-common all 7.91+dfsg1+really7.80+dfsg1-2ubuntu0.1 [3,940 kB]\n",
            "Get:6 http://archive.ubuntu.com/ubuntu jammy-updates/universe amd64 nmap amd64 7.91+dfsg1+really7.80+dfsg1-2ubuntu0.1 [1,731 kB]\n",
            "Fetched 6,029 kB in 0s (12.6 MB/s)\n",
            "Selecting previously unselected package libpcap0.8:amd64.\n",
            "(Reading database ... 120588 files and directories currently installed.)\n",
            "Preparing to unpack .../0-libpcap0.8_1.10.1-4build1_amd64.deb ...\n",
            "Unpacking libpcap0.8:amd64 (1.10.1-4build1) ...\n",
            "Selecting previously unselected package liblinear4:amd64.\n",
            "Preparing to unpack .../1-liblinear4_2.3.0+dfsg-5_amd64.deb ...\n",
            "Unpacking liblinear4:amd64 (2.3.0+dfsg-5) ...\n",
            "Selecting previously unselected package liblua5.3-0:amd64.\n",
            "Preparing to unpack .../2-liblua5.3-0_5.3.6-1build1_amd64.deb ...\n",
            "Unpacking liblua5.3-0:amd64 (5.3.6-1build1) ...\n",
            "Selecting previously unselected package lua-lpeg:amd64.\n",
            "Preparing to unpack .../3-lua-lpeg_1.0.2-1_amd64.deb ...\n",
            "Unpacking lua-lpeg:amd64 (1.0.2-1) ...\n",
            "Selecting previously unselected package nmap-common.\n",
            "Preparing to unpack .../4-nmap-common_7.91+dfsg1+really7.80+dfsg1-2ubuntu0.1_all.deb ...\n",
            "Unpacking nmap-common (7.91+dfsg1+really7.80+dfsg1-2ubuntu0.1) ...\n",
            "Selecting previously unselected package nmap.\n",
            "Preparing to unpack .../5-nmap_7.91+dfsg1+really7.80+dfsg1-2ubuntu0.1_amd64.deb ...\n",
            "Unpacking nmap (7.91+dfsg1+really7.80+dfsg1-2ubuntu0.1) ...\n",
            "Setting up lua-lpeg:amd64 (1.0.2-1) ...\n",
            "Setting up liblinear4:amd64 (2.3.0+dfsg-5) ...\n",
            "Setting up libpcap0.8:amd64 (1.10.1-4build1) ...\n",
            "Setting up nmap-common (7.91+dfsg1+really7.80+dfsg1-2ubuntu0.1) ...\n",
            "Setting up liblua5.3-0:amd64 (5.3.6-1build1) ...\n",
            "Setting up nmap (7.91+dfsg1+really7.80+dfsg1-2ubuntu0.1) ...\n",
            "Processing triggers for man-db (2.10.2-1) ...\n",
            "Processing triggers for libc-bin (2.35-0ubuntu3.1) ...\n"
          ]
        }
      ]
    },
    {
      "cell_type": "code",
      "source": [
        "!nmap 172.28.0.12"
      ],
      "metadata": {
        "colab": {
          "base_uri": "https://localhost:8080/"
        },
        "id": "e_ZhJZSKpCCl",
        "outputId": "6e020eee-18c2-428a-d7f7-15b00065ff77"
      },
      "execution_count": 20,
      "outputs": [
        {
          "output_type": "stream",
          "name": "stdout",
          "text": [
            "Starting Nmap 7.80 ( https://nmap.org ) at 2023-07-21 08:50 UTC\n",
            "Nmap scan report for f2679a670e89 (172.28.0.12)\n",
            "Host is up (0.0000080s latency).\n",
            "Not shown: 997 closed ports\n",
            "PORT     STATE SERVICE\n",
            "6000/tcp open  X11\n",
            "8080/tcp open  http-proxy\n",
            "9000/tcp open  cslistener\n",
            "\n",
            "Nmap done: 1 IP address (1 host up) scanned in 0.10 seconds\n"
          ]
        }
      ]
    },
    {
      "cell_type": "code",
      "source": [
        "!nmap www.google.com"
      ],
      "metadata": {
        "colab": {
          "base_uri": "https://localhost:8080/"
        },
        "id": "sr9fWm6GpH-1",
        "outputId": "4b9aa7ec-9aa8-4b38-ef57-47982e2033d5"
      },
      "execution_count": 21,
      "outputs": [
        {
          "output_type": "stream",
          "name": "stdout",
          "text": [
            "Starting Nmap 7.80 ( https://nmap.org ) at 2023-07-21 08:50 UTC\n",
            "Nmap scan report for www.google.com (74.125.196.103)\n",
            "Host is up (0.0011s latency).\n",
            "Other addresses for www.google.com (not scanned): 74.125.196.99 74.125.196.104 74.125.196.147 74.125.196.105 74.125.196.106 2607:f8b0:400c:c12::93 2607:f8b0:400c:c12::63 2607:f8b0:400c:c12::68 2607:f8b0:400c:c12::67\n",
            "rDNS record for 74.125.196.103: yk-in-f103.1e100.net\n",
            "Not shown: 998 filtered ports\n",
            "PORT    STATE SERVICE\n",
            "80/tcp  open  http\n",
            "443/tcp open  https\n",
            "\n",
            "Nmap done: 1 IP address (1 host up) scanned in 4.63 seconds\n"
          ]
        }
      ]
    },
    {
      "cell_type": "code",
      "source": [
        "!tcpdump"
      ],
      "metadata": {
        "colab": {
          "base_uri": "https://localhost:8080/"
        },
        "id": "WBtWr5mypWf3",
        "outputId": "b035b4da-f4a3-4719-d156-34a7d34c6aa9"
      },
      "execution_count": 22,
      "outputs": [
        {
          "output_type": "stream",
          "name": "stdout",
          "text": [
            "/bin/bash: line 1: tcpdump: command not found\n"
          ]
        }
      ]
    },
    {
      "cell_type": "code",
      "source": [
        "!apt install tcpdump"
      ],
      "metadata": {
        "colab": {
          "base_uri": "https://localhost:8080/"
        },
        "id": "HMc60Wd9pZl1",
        "outputId": "dee276d1-b50e-4f92-d66c-bc541f01da77"
      },
      "execution_count": 23,
      "outputs": [
        {
          "output_type": "stream",
          "name": "stdout",
          "text": [
            "Reading package lists... Done\n",
            "Building dependency tree... Done\n",
            "Reading state information... Done\n",
            "Suggested packages:\n",
            "  apparmor\n",
            "The following NEW packages will be installed:\n",
            "  tcpdump\n",
            "0 upgraded, 1 newly installed, 0 to remove and 8 not upgraded.\n",
            "Need to get 501 kB of archives.\n",
            "After this operation, 1,407 kB of additional disk space will be used.\n",
            "Get:1 http://archive.ubuntu.com/ubuntu jammy-updates/main amd64 tcpdump amd64 4.99.1-3ubuntu0.1 [501 kB]\n",
            "Fetched 501 kB in 0s (2,109 kB/s)\n",
            "Selecting previously unselected package tcpdump.\n",
            "(Reading database ... 121476 files and directories currently installed.)\n",
            "Preparing to unpack .../tcpdump_4.99.1-3ubuntu0.1_amd64.deb ...\n",
            "Unpacking tcpdump (4.99.1-3ubuntu0.1) ...\n",
            "Setting up tcpdump (4.99.1-3ubuntu0.1) ...\n",
            "Processing triggers for man-db (2.10.2-1) ...\n"
          ]
        }
      ]
    },
    {
      "cell_type": "code",
      "source": [
        "!tcpdump"
      ],
      "metadata": {
        "colab": {
          "base_uri": "https://localhost:8080/"
        },
        "id": "kAz9Qm3QpeRr",
        "outputId": "12c35241-6644-4e44-fce9-518bfc3b3952"
      },
      "execution_count": 24,
      "outputs": [
        {
          "output_type": "stream",
          "name": "stdout",
          "text": [
            "tcpdump: verbose output suppressed, use -v[v]... for full protocol decode\n",
            "listening on eth0, link-type EN10MB (Ethernet), snapshot length 262144 bytes\n",
            "08:51:53.661032 IP f2679a670e89.6000 > 172.28.0.1.46954: Flags [.], ack 1444409071, win 509, options [nop,nop,TS val 2464078804 ecr 2790503995], length 0\n",
            "08:51:53.661079 IP 172.28.0.1.46954 > f2679a670e89.6000: Flags [.], ack 1, win 501, options [nop,nop,TS val 2790519033 ecr 2464063766], length 0\n",
            "08:51:53.756083 IP 172.28.0.1.46344 > f2679a670e89.8080: Flags [P.], seq 2833155573:2833156202, ack 3219068237, win 501, options [nop,nop,TS val 2790519128 ecr 2464078567], length 629: HTTP: GET /socket.io/?EIO=3&sid=FeGynIQFJbpL3xgMAAAA&t=ObtfVfP&transport=polling HTTP/1.1\n",
            "08:51:53.756109 IP f2679a670e89.8080 > 172.28.0.1.46344: Flags [.], ack 629, win 501, options [nop,nop,TS val 2464078899 ecr 2790519128], length 0\n",
            "08:51:53.757554 IP f2679a670e89.8080 > 172.28.0.1.46344: Flags [P.], seq 1:863, ack 629, win 501, options [nop,nop,TS val 2464078901 ecr 2790519128], length 862: HTTP: HTTP/1.1 200 OK\n",
            "08:51:53.757584 IP 172.28.0.1.46344 > f2679a670e89.8080: Flags [.], ack 863, win 501, options [nop,nop,TS val 2790519130 ecr 2464078901], length 0\n",
            "08:51:53.757603 IP f2679a670e89.33647 > metadata.google.internal.53: 42809+ PTR? 1.0.28.172.in-addr.arpa. (41)\n",
            "08:51:53.760444 IP metadata.google.internal.53 > f2679a670e89.33647: 42809 NXDomain 0/1/0 (138)\n",
            "08:51:53.861714 IP f2679a670e89.36186 > metadata.google.internal.53: 4837+ PTR? 254.169.254.169.in-addr.arpa. (46)\n",
            "08:51:53.862458 IP metadata.google.internal.53 > f2679a670e89.36186: 4837 1/0/0 PTR metadata.google.internal. (84)\n",
            "08:51:54.090789 IP 172.28.0.1.46344 > f2679a670e89.8080: Flags [P.], seq 629:1362, ack 863, win 501, options [nop,nop,TS val 2790519463 ecr 2464078901], length 733: HTTP: POST /socket.io/?EIO=3&sid=FeGynIQFJbpL3xgMAAAA&t=ObtfVkz&transport=polling HTTP/1.1\n",
            "08:51:54.090992 IP 172.28.0.1.46344 > f2679a670e89.8080: Flags [P.], seq 1362:1417, ack 863, win 501, options [nop,nop,TS val 2790519463 ecr 2464078901], length 55: HTTP\n",
            "08:51:54.091003 IP f2679a670e89.8080 > 172.28.0.1.46344: Flags [.], ack 1417, win 501, options [nop,nop,TS val 2464079234 ecr 2790519463], length 0\n",
            "08:51:54.091695 IP f2679a670e89.8080 > 172.28.0.1.46344: Flags [P.], seq 863:1148, ack 1417, win 501, options [nop,nop,TS val 2464079235 ecr 2790519463], length 285: HTTP: HTTP/1.1 200 OK\n",
            "08:51:54.091712 IP 172.28.0.1.46344 > f2679a670e89.8080: Flags [.], ack 1148, win 501, options [nop,nop,TS val 2790519464 ecr 2464079235], length 0\n",
            "08:51:54.444502 IP 172.28.0.1.46344 > f2679a670e89.8080: Flags [P.], seq 1417:2046, ack 1148, win 501, options [nop,nop,TS val 2790519817 ecr 2464079235], length 629: HTTP: GET /socket.io/?EIO=3&sid=FeGynIQFJbpL3xgMAAAA&t=ObtfVl6&transport=polling HTTP/1.1\n",
            "08:51:54.445760 IP f2679a670e89.8080 > 172.28.0.1.46344: Flags [P.], seq 1148:3296, ack 2046, win 501, options [nop,nop,TS val 2464079589 ecr 2790519817], length 2148: HTTP: HTTP/1.1 200 OK\n",
            "08:51:54.445796 IP 172.28.0.1.46344 > f2679a670e89.8080: Flags [.], ack 3296, win 499, options [nop,nop,TS val 2790519818 ecr 2464079589], length 0\n",
            "08:51:54.496050 IP 172.28.0.1.46344 > f2679a670e89.8080: Flags [P.], seq 2046:2779, ack 3296, win 501, options [nop,nop,TS val 2790519868 ecr 2464079589], length 733: HTTP: POST /socket.io/?EIO=3&sid=FeGynIQFJbpL3xgMAAAA&t=ObtfVqD&transport=polling HTTP/1.1\n",
            "08:51:54.496268 IP 172.28.0.1.46344 > f2679a670e89.8080: Flags [P.], seq 2779:2853, ack 3296, win 501, options [nop,nop,TS val 2790519868 ecr 2464079589], length 74: HTTP\n",
            "08:51:54.496279 IP f2679a670e89.8080 > 172.28.0.1.46344: Flags [.], ack 2853, win 501, options [nop,nop,TS val 2464079639 ecr 2790519868], length 0\n",
            "08:51:54.496752 IP f2679a670e89.8080 > 172.28.0.1.46344: Flags [P.], seq 3296:3581, ack 2853, win 501, options [nop,nop,TS val 2464079640 ecr 2790519868], length 285: HTTP: HTTP/1.1 200 OK\n",
            "08:51:54.496767 IP 172.28.0.1.46344 > f2679a670e89.8080: Flags [.], ack 3581, win 501, options [nop,nop,TS val 2790519869 ecr 2464079640], length 0\n",
            "08:51:55.154252 IP 172.28.0.1.46344 > f2679a670e89.8080: Flags [P.], seq 2853:3482, ack 3581, win 501, options [nop,nop,TS val 2790520526 ecr 2464079640], length 629: HTTP: GET /socket.io/?EIO=3&sid=FeGynIQFJbpL3xgMAAAA&t=ObtfVvv&transport=polling HTTP/1.1\n",
            "08:51:55.155580 IP f2679a670e89.8080 > 172.28.0.1.46344: Flags [P.], seq 3581:4738, ack 3482, win 501, options [nop,nop,TS val 2464080299 ecr 2790520526], length 1157: HTTP: HTTP/1.1 200 OK\n",
            "08:51:55.155614 IP 172.28.0.1.46344 > f2679a670e89.8080: Flags [.], ack 4738, win 501, options [nop,nop,TS val 2790520528 ecr 2464080299], length 0\n",
            "08:51:55.527218 IP 172.28.0.1.46344 > f2679a670e89.8080: Flags [P.], seq 3482:4111, ack 4738, win 501, options [nop,nop,TS val 2790520899 ecr 2464080299], length 629: HTTP: GET /socket.io/?EIO=3&sid=FeGynIQFJbpL3xgMAAAA&t=ObtfW5K&transport=polling HTTP/1.1\n",
            "08:51:55.528288 IP f2679a670e89.8080 > 172.28.0.1.46344: Flags [P.], seq 4738:5599, ack 4111, win 501, options [nop,nop,TS val 2464080671 ecr 2790520899], length 861: HTTP: HTTP/1.1 200 OK\n",
            "08:51:55.528310 IP 172.28.0.1.46344 > f2679a670e89.8080: Flags [.], ack 5599, win 501, options [nop,nop,TS val 2790520900 ecr 2464080671], length 0\n",
            "08:51:55.812054 IP 172.28.0.1.46344 > f2679a670e89.8080: Flags [P.], seq 4111:4844, ack 5599, win 501, options [nop,nop,TS val 2790521184 ecr 2464080671], length 733: HTTP: POST /socket.io/?EIO=3&sid=FeGynIQFJbpL3xgMAAAA&t=ObtfW5L&transport=polling HTTP/1.1\n",
            "08:51:55.812103 IP 172.28.0.1.46344 > f2679a670e89.8080: Flags [P.], seq 4844:4899, ack 5599, win 501, options [nop,nop,TS val 2790521184 ecr 2464080671], length 55: HTTP\n",
            "08:51:55.812187 IP f2679a670e89.8080 > 172.28.0.1.46344: Flags [.], ack 4899, win 501, options [nop,nop,TS val 2464080955 ecr 2790521184], length 0\n",
            "08:51:55.812786 IP f2679a670e89.8080 > 172.28.0.1.46344: Flags [P.], seq 5599:5884, ack 4899, win 501, options [nop,nop,TS val 2464080956 ecr 2790521184], length 285: HTTP: HTTP/1.1 200 OK\n",
            "08:51:55.812800 IP 172.28.0.1.46344 > f2679a670e89.8080: Flags [.], ack 5884, win 501, options [nop,nop,TS val 2790521185 ecr 2464080956], length 0\n",
            "08:51:55.875534 IP 172.28.0.1.46344 > f2679a670e89.8080: Flags [P.], seq 4899:5528, ack 5884, win 501, options [nop,nop,TS val 2790521248 ecr 2464080956], length 629: HTTP: GET /socket.io/?EIO=3&sid=FeGynIQFJbpL3xgMAAAA&t=ObtfWAq&transport=polling HTTP/1.1\n",
            "08:51:55.876453 IP f2679a670e89.8080 > 172.28.0.1.46344: Flags [P.], seq 5884:6744, ack 5528, win 501, options [nop,nop,TS val 2464081020 ecr 2790521248], length 860: HTTP: HTTP/1.1 200 OK\n",
            "08:51:55.876474 IP 172.28.0.1.46344 > f2679a670e89.8080: Flags [.], ack 6744, win 501, options [nop,nop,TS val 2790521249 ecr 2464081020], length 0\n",
            "08:51:56.207358 IP 172.28.0.1.46344 > f2679a670e89.8080: Flags [P.], seq 5528:6157, ack 6744, win 501, options [nop,nop,TS val 2790521579 ecr 2464081020], length 629: HTTP: GET /socket.io/?EIO=3&sid=FeGynIQFJbpL3xgMAAAA&t=ObtfWFv&transport=polling HTTP/1.1\n",
            "08:51:56.208526 IP f2679a670e89.8080 > 172.28.0.1.46344: Flags [P.], seq 6744:7719, ack 6157, win 501, options [nop,nop,TS val 2464081352 ecr 2790521579], length 975: HTTP: HTTP/1.1 200 OK\n",
            "08:51:56.208551 IP 172.28.0.1.46344 > f2679a670e89.8080: Flags [.], ack 7719, win 501, options [nop,nop,TS val 2790521581 ecr 2464081352], length 0\n",
            "08:51:56.353766 IP 172.28.0.1.46344 > f2679a670e89.8080: Flags [P.], seq 6157:6891, ack 7719, win 501, options [nop,nop,TS val 2790521726 ecr 2464081352], length 734: HTTP: POST /socket.io/?EIO=3&sid=FeGynIQFJbpL3xgMAAAA&t=ObtfWEy&transport=polling HTTP/1.1\n",
            "08:51:56.353892 IP 172.28.0.1.46344 > f2679a670e89.8080: Flags [P.], seq 6891:6996, ack 7719, win 501, options [nop,nop,TS val 2790521726 ecr 2464081352], length 105: HTTP\n",
            "08:51:56.354002 IP f2679a670e89.8080 > 172.28.0.1.46344: Flags [.], ack 6996, win 501, options [nop,nop,TS val 2464081497 ecr 2790521726], length 0\n",
            "08:51:56.354526 IP f2679a670e89.8080 > 172.28.0.1.46344: Flags [P.], seq 7719:8004, ack 6996, win 501, options [nop,nop,TS val 2464081498 ecr 2790521726], length 285: HTTP: HTTP/1.1 200 OK\n",
            "08:51:56.354539 IP 172.28.0.1.46344 > f2679a670e89.8080: Flags [.], ack 8004, win 501, options [nop,nop,TS val 2790521727 ecr 2464081498], length 0\n",
            "08:51:56.535469 IP 172.28.0.1.46344 > f2679a670e89.8080: Flags [P.], seq 6996:7625, ack 8004, win 501, options [nop,nop,TS val 2790521908 ecr 2464081498], length 629: HTTP: GET /socket.io/?EIO=3&sid=FeGynIQFJbpL3xgMAAAA&t=ObtfWLD&transport=polling HTTP/1.1\n",
            "08:51:56.542582 IP f2679a670e89.8080 > 172.28.0.1.46344: Flags [P.], seq 8004:8979, ack 7625, win 501, options [nop,nop,TS val 2464081686 ecr 2790521908], length 975: HTTP: HTTP/1.1 200 OK\n",
            "08:51:56.542612 IP 172.28.0.1.46344 > f2679a670e89.8080: Flags [.], ack 8979, win 501, options [nop,nop,TS val 2790521915 ecr 2464081686], length 0\n",
            "08:51:56.988031 IP 172.28.0.1.46344 > f2679a670e89.8080: Flags [P.], seq 7625:8254, ack 8979, win 501, options [nop,nop,TS val 2790522360 ecr 2464081686], length 629: HTTP: GET /socket.io/?EIO=3&sid=FeGynIQFJbpL3xgMAAAA&t=ObtfWQg&transport=polling HTTP/1.1\n",
            "08:51:56.989146 IP f2679a670e89.8080 > 172.28.0.1.46344: Flags [P.], seq 8979:9842, ack 8254, win 501, options [nop,nop,TS val 2464082132 ecr 2790522360], length 863: HTTP: HTTP/1.1 200 OK\n",
            "08:51:56.989169 IP 172.28.0.1.46344 > f2679a670e89.8080: Flags [.], ack 9842, win 501, options [nop,nop,TS val 2790522361 ecr 2464082132], length 0\n",
            "08:51:57.315870 IP 172.28.0.1.46344 > f2679a670e89.8080: Flags [P.], seq 8254:8883, ack 9842, win 501, options [nop,nop,TS val 2790522688 ecr 2464082132], length 629: HTTP: GET /socket.io/?EIO=3&sid=FeGynIQFJbpL3xgMAAAA&t=ObtfWXH&transport=polling HTTP/1.1\n",
            "08:51:57.344881 IP f2679a670e89.8080 > 172.28.0.1.46344: Flags [P.], seq 9842:10705, ack 8883, win 501, options [nop,nop,TS val 2464082488 ecr 2790522688], length 863: HTTP: HTTP/1.1 200 OK\n",
            "08:51:57.344907 IP 172.28.0.1.46344 > f2679a670e89.8080: Flags [.], ack 10705, win 501, options [nop,nop,TS val 2790522717 ecr 2464082488], length 0\n",
            "08:51:57.660046 IP 172.28.0.1.46344 > f2679a670e89.8080: Flags [P.], seq 8883:9512, ack 10705, win 501, options [nop,nop,TS val 2790523032 ecr 2464082488], length 629: HTTP: GET /socket.io/?EIO=3&sid=FeGynIQFJbpL3xgMAAAA&t=ObtfWce&transport=polling HTTP/1.1\n",
            "08:51:57.661052 IP f2679a670e89.8080 > 172.28.0.1.46344: Flags [P.], seq 10705:12502, ack 9512, win 501, options [nop,nop,TS val 2464082804 ecr 2790523032], length 1797: HTTP: HTTP/1.1 200 OK\n",
            "08:51:57.661076 IP 172.28.0.1.46344 > f2679a670e89.8080: Flags [.], ack 12502, win 500, options [nop,nop,TS val 2790523033 ecr 2464082804], length 0\n",
            "08:51:58.158574 IP 172.28.0.1.46344 > f2679a670e89.8080: Flags [P.], seq 9512:10141, ack 12502, win 501, options [nop,nop,TS val 2790523531 ecr 2464082804], length 629: HTTP: GET /socket.io/?EIO=3&sid=FeGynIQFJbpL3xgMAAAA&t=ObtfWkW&transport=polling HTTP/1.1\n",
            "08:51:58.159541 IP f2679a670e89.8080 > 172.28.0.1.46344: Flags [P.], seq 12502:13364, ack 10141, win 501, options [nop,nop,TS val 2464083303 ecr 2790523531], length 862: HTTP: HTTP/1.1 200 OK\n",
            "08:51:58.159563 IP 172.28.0.1.46344 > f2679a670e89.8080: Flags [.], ack 13364, win 501, options [nop,nop,TS val 2790523532 ecr 2464083303], length 0\n",
            "08:51:58.502267 IP 172.28.0.1.46344 > f2679a670e89.8080: Flags [P.], seq 10141:10770, ack 13364, win 501, options [nop,nop,TS val 2790523874 ecr 2464083303], length 629: HTTP: GET /socket.io/?EIO=3&sid=FeGynIQFJbpL3xgMAAAA&t=ObtfWpb&transport=polling HTTP/1.1\n",
            "08:51:58.503448 IP f2679a670e89.8080 > 172.28.0.1.46344: Flags [P.], seq 13364:14226, ack 10770, win 501, options [nop,nop,TS val 2464083647 ecr 2790523874], length 862: HTTP: HTTP/1.1 200 OK\n",
            "08:51:58.503468 IP 172.28.0.1.46344 > f2679a670e89.8080: Flags [.], ack 14226, win 501, options [nop,nop,TS val 2790523876 ecr 2464083647], length 0\n",
            "08:51:58.831623 IP 172.28.0.1.46344 > f2679a670e89.8080: Flags [P.], seq 10770:11399, ack 14226, win 501, options [nop,nop,TS val 2790524204 ecr 2464083647], length 629: HTTP: GET /socket.io/?EIO=3&sid=FeGynIQFJbpL3xgMAAAA&t=ObtfWu_&transport=polling HTTP/1.1\n",
            "08:51:58.832705 IP f2679a670e89.8080 > 172.28.0.1.46344: Flags [P.], seq 14226:15088, ack 11399, win 501, options [nop,nop,TS val 2464083976 ecr 2790524204], length 862: HTTP: HTTP/1.1 200 OK\n",
            "08:51:58.832725 IP 172.28.0.1.46344 > f2679a670e89.8080: Flags [.], ack 15088, win 501, options [nop,nop,TS val 2790524205 ecr 2464083976], length 0\n",
            "08:51:59.192578 IP 172.28.0.1.46344 > f2679a670e89.8080: Flags [P.], seq 11399:12028, ack 15088, win 501, options [nop,nop,TS val 2790524565 ecr 2464083976], length 629: HTTP: GET /socket.io/?EIO=3&sid=FeGynIQFJbpL3xgMAAAA&t=ObtfW-U&transport=polling HTTP/1.1\n",
            "08:51:59.193625 IP f2679a670e89.8080 > 172.28.0.1.46344: Flags [P.], seq 15088:15951, ack 12028, win 501, options [nop,nop,TS val 2464084337 ecr 2790524565], length 863: HTTP: HTTP/1.1 200 OK\n",
            "08:51:59.193647 IP 172.28.0.1.46344 > f2679a670e89.8080: Flags [.], ack 15951, win 501, options [nop,nop,TS val 2790524566 ecr 2464084337], length 0\n",
            "08:51:59.521007 IP 172.28.0.1.46344 > f2679a670e89.8080: Flags [P.], seq 12028:12657, ack 15951, win 501, options [nop,nop,TS val 2790524893 ecr 2464084337], length 629: HTTP: GET /socket.io/?EIO=3&sid=FeGynIQFJbpL3xgMAAAA&t=ObtfX3l&transport=polling HTTP/1.1\n",
            "08:51:59.554537 IP f2679a670e89.8080 > 172.28.0.1.46344: Flags [P.], seq 15951:16815, ack 12657, win 501, options [nop,nop,TS val 2464084698 ecr 2790524893], length 864: HTTP: HTTP/1.1 200 OK\n",
            "08:51:59.554569 IP 172.28.0.1.46344 > f2679a670e89.8080: Flags [.], ack 16815, win 501, options [nop,nop,TS val 2790524927 ecr 2464084698], length 0\n",
            "08:51:59.871502 IP 172.28.0.1.46344 > f2679a670e89.8080: Flags [P.], seq 12657:13286, ack 16815, win 501, options [nop,nop,TS val 2790525244 ecr 2464084698], length 629: HTTP: GET /socket.io/?EIO=3&sid=FeGynIQFJbpL3xgMAAAA&t=ObtfX9F&transport=polling HTTP/1.1\n",
            "08:51:59.872638 IP f2679a670e89.8080 > 172.28.0.1.46344: Flags [P.], seq 16815:17678, ack 13286, win 501, options [nop,nop,TS val 2464085016 ecr 2790525244], length 863: HTTP: HTTP/1.1 200 OK\n",
            "08:51:59.872660 IP 172.28.0.1.46344 > f2679a670e89.8080: Flags [.], ack 17678, win 501, options [nop,nop,TS val 2790525245 ecr 2464085016], length 0\n",
            "08:52:00.204256 IP 172.28.0.1.46344 > f2679a670e89.8080: Flags [P.], seq 13286:13915, ack 17678, win 501, options [nop,nop,TS val 2790525576 ecr 2464085016], length 629: HTTP: GET /socket.io/?EIO=3&sid=FeGynIQFJbpL3xgMAAAA&t=ObtfXEN&transport=polling HTTP/1.1\n",
            "08:52:00.205509 IP f2679a670e89.8080 > 172.28.0.1.46344: Flags [P.], seq 17678:18544, ack 13915, win 501, options [nop,nop,TS val 2464085349 ecr 2790525576], length 866: HTTP: HTTP/1.1 200 OK\n",
            "08:52:00.205533 IP 172.28.0.1.46344 > f2679a670e89.8080: Flags [.], ack 18544, win 501, options [nop,nop,TS val 2790525578 ecr 2464085349], length 0\n",
            "08:52:00.572509 IP 172.28.0.1.46344 > f2679a670e89.8080: Flags [P.], seq 13915:14544, ack 18544, win 501, options [nop,nop,TS val 2790525945 ecr 2464085349], length 629: HTTP: GET /socket.io/?EIO=3&sid=FeGynIQFJbpL3xgMAAAA&t=ObtfXJ-&transport=polling HTTP/1.1\n",
            "08:52:00.573549 IP f2679a670e89.8080 > 172.28.0.1.46344: Flags [P.], seq 18544:19409, ack 14544, win 501, options [nop,nop,TS val 2464085717 ecr 2790525945], length 865: HTTP: HTTP/1.1 200 OK\n",
            "08:52:00.573578 IP 172.28.0.1.46344 > f2679a670e89.8080: Flags [.], ack 19409, win 501, options [nop,nop,TS val 2790525946 ecr 2464085717], length 0\n",
            "08:52:00.891100 IP 172.28.0.1.46344 > f2679a670e89.8080: Flags [P.], seq 14544:15173, ack 19409, win 501, options [nop,nop,TS val 2790526263 ecr 2464085717], length 629: HTTP: GET /socket.io/?EIO=3&sid=FeGynIQFJbpL3xgMAAAA&t=ObtfXPE&transport=polling HTTP/1.1\n",
            "08:52:00.892109 IP f2679a670e89.8080 > 172.28.0.1.46344: Flags [P.], seq 19409:20271, ack 15173, win 501, options [nop,nop,TS val 2464086035 ecr 2790526263], length 862: HTTP: HTTP/1.1 200 OK\n",
            "08:52:00.892135 IP 172.28.0.1.46344 > f2679a670e89.8080: Flags [.], ack 20271, win 501, options [nop,nop,TS val 2790526264 ecr 2464086035], length 0\n",
            "08:52:01.034572 IP 172.28.0.1.46344 > f2679a670e89.8080: Flags [P.], seq 15173:15752, ack 20271, win 501, options [nop,nop,TS val 2790526407 ecr 2464086035], length 579: HTTP: GET /api/colab/resources HTTP/1.1\n",
            "08:52:01.039215 IP f2679a670e89.8080 > 172.28.0.1.46344: Flags [P.], seq 20271:20833, ack 15752, win 501, options [nop,nop,TS val 2464086182 ecr 2790526407], length 562: HTTP: HTTP/1.1 200 OK\n",
            "08:52:01.039245 IP 172.28.0.1.46344 > f2679a670e89.8080: Flags [.], ack 20833, win 501, options [nop,nop,TS val 2790526411 ecr 2464086182], length 0\n",
            "08:52:01.039883 IP f2679a670e89.8080 > 172.28.0.1.46344: Flags [F.], seq 20833, ack 15752, win 501, options [nop,nop,TS val 2464086183 ecr 2790526411], length 0\n",
            "08:52:01.042332 IP 172.28.0.1.46344 > f2679a670e89.8080: Flags [F.], seq 15752, ack 20834, win 501, options [nop,nop,TS val 2790526414 ecr 2464086183], length 0\n",
            "08:52:01.042347 IP f2679a670e89.8080 > 172.28.0.1.46344: Flags [.], ack 15753, win 501, options [nop,nop,TS val 2464086185 ecr 2790526414], length 0\n",
            "08:52:01.241435 IP 172.28.0.1.35416 > f2679a670e89.8080: Flags [P.], seq 2503056515:2503057144, ack 4183730332, win 501, options [nop,nop,TS val 2790526614 ecr 2464078553], length 629: HTTP: GET /socket.io/?EIO=3&sid=FeGynIQFJbpL3xgMAAAA&t=ObtfXUn&transport=polling HTTP/1.1\n",
            "08:52:01.242728 IP f2679a670e89.8080 > 172.28.0.1.35416: Flags [P.], seq 1:1017, ack 629, win 501, options [nop,nop,TS val 2464086386 ecr 2790526614], length 1016: HTTP: HTTP/1.1 200 OK\n",
            "08:52:01.242759 IP 172.28.0.1.35416 > f2679a670e89.8080: Flags [.], ack 1017, win 501, options [nop,nop,TS val 2790526615 ecr 2464086386], length 0\n",
            "08:52:01.613979 IP 172.28.0.1.35416 > f2679a670e89.8080: Flags [P.], seq 629:1258, ack 1017, win 501, options [nop,nop,TS val 2790526986 ecr 2464086386], length 629: HTTP: GET /socket.io/?EIO=3&sid=FeGynIQFJbpL3xgMAAAA&t=ObtfXaB&transport=polling HTTP/1.1\n",
            "08:52:01.615251 IP f2679a670e89.8080 > 172.28.0.1.35416: Flags [P.], seq 1017:1889, ack 1258, win 501, options [nop,nop,TS val 2464086758 ecr 2790526986], length 872: HTTP: HTTP/1.1 200 OK\n",
            "08:52:01.615280 IP 172.28.0.1.35416 > f2679a670e89.8080: Flags [.], ack 1889, win 501, options [nop,nop,TS val 2790526987 ecr 2464086758], length 0\n",
            "08:52:02.009188 IP 172.28.0.1.35416 > f2679a670e89.8080: Flags [P.], seq 1258:1887, ack 1889, win 501, options [nop,nop,TS val 2790527381 ecr 2464086758], length 629: HTTP: GET /socket.io/?EIO=3&sid=FeGynIQFJbpL3xgMAAAA&t=ObtfXf-&transport=polling HTTP/1.1\n",
            "08:52:02.021269 IP f2679a670e89.8080 > 172.28.0.1.35416: Flags [P.], seq 1889:2749, ack 1887, win 501, options [nop,nop,TS val 2464087164 ecr 2790527381], length 860: HTTP: HTTP/1.1 200 OK\n",
            "08:52:02.021294 IP 172.28.0.1.35416 > f2679a670e89.8080: Flags [.], ack 2749, win 501, options [nop,nop,TS val 2790527393 ecr 2464087164], length 0\n",
            "08:52:02.396850 IP 172.28.0.1.35416 > f2679a670e89.8080: Flags [P.], seq 1887:2516, ack 2749, win 501, options [nop,nop,TS val 2790527769 ecr 2464087164], length 629: HTTP: GET /socket.io/?EIO=3&sid=FeGynIQFJbpL3xgMAAAA&t=ObtfXmQ&transport=polling HTTP/1.1\n",
            "08:52:02.397856 IP f2679a670e89.8080 > 172.28.0.1.35416: Flags [P.], seq 2749:3611, ack 2516, win 501, options [nop,nop,TS val 2464087541 ecr 2790527769], length 862: HTTP: HTTP/1.1 200 OK\n",
            "08:52:02.397877 IP 172.28.0.1.35416 > f2679a670e89.8080: Flags [.], ack 3611, win 501, options [nop,nop,TS val 2790527770 ecr 2464087541], length 0\n",
            "08:52:02.743863 IP 172.28.0.1.35416 > f2679a670e89.8080: Flags [P.], seq 2516:3145, ack 3611, win 501, options [nop,nop,TS val 2790528116 ecr 2464087541], length 629: HTTP: GET /socket.io/?EIO=3&sid=FeGynIQFJbpL3xgMAAAA&t=ObtfXrv&transport=polling HTTP/1.1\n",
            "08:52:02.771347 IP f2679a670e89.8080 > 172.28.0.1.35416: Flags [P.], seq 3611:4473, ack 3145, win 501, options [nop,nop,TS val 2464087914 ecr 2790528116], length 862: HTTP: HTTP/1.1 200 OK\n",
            "08:52:02.771383 IP 172.28.0.1.35416 > f2679a670e89.8080: Flags [.], ack 4473, win 501, options [nop,nop,TS val 2790528144 ecr 2464087914], length 0\n",
            "08:52:03.085564 IP 172.28.0.1.35416 > f2679a670e89.8080: Flags [P.], seq 3145:3774, ack 4473, win 501, options [nop,nop,TS val 2790528458 ecr 2464087914], length 629: HTTP: GET /socket.io/?EIO=3&sid=FeGynIQFJbpL3xgMAAAA&t=ObtfXxW&transport=polling HTTP/1.1\n",
            "08:52:03.086937 IP f2679a670e89.8080 > 172.28.0.1.35416: Flags [P.], seq 4473:5335, ack 3774, win 501, options [nop,nop,TS val 2464088230 ecr 2790528458], length 862: HTTP: HTTP/1.1 200 OK\n",
            "08:52:03.086988 IP 172.28.0.1.35416 > f2679a670e89.8080: Flags [.], ack 5335, win 501, options [nop,nop,TS val 2790528459 ecr 2464088230], length 0\n",
            "08:52:03.333586 IP 172.28.0.1.35416 > f2679a670e89.8080: Flags [P.], seq 3774:4506, ack 5335, win 501, options [nop,nop,TS val 2790528706 ecr 2464088230], length 732: HTTP: POST /socket.io/?EIO=3&sid=FeGynIQFJbpL3xgMAAAA&t=ObtfX_8&transport=polling HTTP/1.1\n",
            "08:52:03.333724 IP 172.28.0.1.35416 > f2679a670e89.8080: Flags [P.], seq 4506:4509, ack 5335, win 501, options [nop,nop,TS val 2790528706 ecr 2464088230], length 3: HTTP\n",
            "08:52:03.333742 IP f2679a670e89.8080 > 172.28.0.1.35416: Flags [.], ack 4509, win 501, options [nop,nop,TS val 2464088477 ecr 2790528706], length 0\n",
            "08:52:03.334580 IP f2679a670e89.8080 > 172.28.0.1.35416: Flags [P.], seq 5335:5620, ack 4509, win 501, options [nop,nop,TS val 2464088478 ecr 2790528706], length 285: HTTP: HTTP/1.1 200 OK\n",
            "08:52:03.334602 IP 172.28.0.1.35416 > f2679a670e89.8080: Flags [.], ack 5620, win 501, options [nop,nop,TS val 2790528707 ecr 2464088478], length 0\n",
            "08:52:03.400867 IP 172.28.0.1.35416 > f2679a670e89.8080: Flags [P.], seq 4509:5138, ack 5620, win 501, options [nop,nop,TS val 2790528773 ecr 2464088478], length 629: HTTP: GET /socket.io/?EIO=3&sid=FeGynIQFJbpL3xgMAAAA&t=ObtfY0R&transport=polling HTTP/1.1\n",
            "08:52:03.402101 IP f2679a670e89.8080 > 172.28.0.1.35416: Flags [P.], seq 5620:6485, ack 5138, win 501, options [nop,nop,TS val 2464088545 ecr 2790528773], length 865: HTTP: HTTP/1.1 200 OK\n",
            "08:52:03.402127 IP 172.28.0.1.35416 > f2679a670e89.8080: Flags [.], ack 6485, win 501, options [nop,nop,TS val 2790528774 ecr 2464088545], length 0\n",
            "08:52:03.748013 IP 172.28.0.1.35416 > f2679a670e89.8080: Flags [P.], seq 5138:5767, ack 6485, win 501, options [nop,nop,TS val 2790529120 ecr 2464088545], length 629: HTTP: GET /socket.io/?EIO=3&sid=FeGynIQFJbpL3xgMAAAA&t=ObtfY5u&transport=polling HTTP/1.1\n",
            "08:52:03.749449 IP f2679a670e89.8080 > 172.28.0.1.35416: Flags [P.], seq 6485:7460, ack 5767, win 501, options [nop,nop,TS val 2464088893 ecr 2790529120], length 975: HTTP: HTTP/1.1 200 OK\n",
            "08:52:03.749480 IP 172.28.0.1.35416 > f2679a670e89.8080: Flags [.], ack 7460, win 501, options [nop,nop,TS val 2790529122 ecr 2464088893], length 0\n",
            "08:52:04.125924 IP 172.28.0.1.35416 > f2679a670e89.8080: Flags [P.], seq 5767:6396, ack 7460, win 501, options [nop,nop,TS val 2790529498 ecr 2464088893], length 629: HTTP: GET /socket.io/?EIO=3&sid=FeGynIQFJbpL3xgMAAAA&t=ObtfYBV&transport=polling HTTP/1.1\n",
            "08:52:04.127236 IP f2679a670e89.8080 > 172.28.0.1.35416: Flags [P.], seq 7460:8321, ack 6396, win 501, options [nop,nop,TS val 2464089270 ecr 2790529498], length 861: HTTP: HTTP/1.1 200 OK\n",
            "08:52:04.127263 IP 172.28.0.1.35416 > f2679a670e89.8080: Flags [.], ack 8321, win 501, options [nop,nop,TS val 2790529499 ecr 2464089270], length 0\n",
            "08:52:04.449676 IP 172.28.0.1.35416 > f2679a670e89.8080: Flags [P.], seq 6396:7025, ack 8321, win 501, options [nop,nop,TS val 2790529822 ecr 2464089270], length 629: HTTP: GET /socket.io/?EIO=3&sid=FeGynIQFJbpL3xgMAAAA&t=ObtfYGk&transport=polling HTTP/1.1\n",
            "08:52:04.450850 IP f2679a670e89.8080 > 172.28.0.1.35416: Flags [P.], seq 8321:9184, ack 7025, win 501, options [nop,nop,TS val 2464089594 ecr 2790529822], length 863: HTTP: HTTP/1.1 200 OK\n",
            "08:52:04.450871 IP 172.28.0.1.35416 > f2679a670e89.8080: Flags [.], ack 9184, win 501, options [nop,nop,TS val 2790529823 ecr 2464089594], length 0\n",
            "08:52:04.842697 IP 172.28.0.1.35416 > f2679a670e89.8080: Flags [P.], seq 7025:7654, ack 9184, win 501, options [nop,nop,TS val 2790530215 ecr 2464089594], length 629: HTTP: GET /socket.io/?EIO=3&sid=FeGynIQFJbpL3xgMAAAA&t=ObtfYMZ&transport=polling HTTP/1.1\n",
            "08:52:04.843642 IP f2679a670e89.8080 > 172.28.0.1.35416: Flags [P.], seq 9184:10046, ack 7654, win 501, options [nop,nop,TS val 2464089987 ecr 2790530215], length 862: HTTP: HTTP/1.1 200 OK\n",
            "08:52:04.843663 IP 172.28.0.1.35416 > f2679a670e89.8080: Flags [.], ack 10046, win 501, options [nop,nop,TS val 2790530216 ecr 2464089987], length 0\n",
            "08:52:05.180354 IP 172.28.0.1.35416 > f2679a670e89.8080: Flags [P.], seq 7654:8283, ack 10046, win 501, options [nop,nop,TS val 2790530552 ecr 2464089987], length 629: HTTP: GET /socket.io/?EIO=3&sid=FeGynIQFJbpL3xgMAAAA&t=ObtfYSF&transport=polling HTTP/1.1\n",
            "08:52:05.185200 IP f2679a670e89.8080 > 172.28.0.1.35416: Flags [P.], seq 10046:10909, ack 8283, win 501, options [nop,nop,TS val 2464090328 ecr 2790530552], length 863: HTTP: HTTP/1.1 200 OK\n",
            "08:52:05.185223 IP 172.28.0.1.35416 > f2679a670e89.8080: Flags [.], ack 10909, win 501, options [nop,nop,TS val 2790530557 ecr 2464090328], length 0\n",
            "08:52:05.522487 IP 172.28.0.1.35416 > f2679a670e89.8080: Flags [P.], seq 8283:8912, ack 10909, win 501, options [nop,nop,TS val 2790530895 ecr 2464090328], length 629: HTTP: GET /socket.io/?EIO=3&sid=FeGynIQFJbpL3xgMAAAA&t=ObtfYXU&transport=polling HTTP/1.1\n",
            "08:52:05.523487 IP f2679a670e89.8080 > 172.28.0.1.35416: Flags [P.], seq 10909:11773, ack 8912, win 501, options [nop,nop,TS val 2464090667 ecr 2790530895], length 864: HTTP: HTTP/1.1 200 OK\n",
            "08:52:05.523507 IP 172.28.0.1.35416 > f2679a670e89.8080: Flags [.], ack 11773, win 501, options [nop,nop,TS val 2790530896 ecr 2464090667], length 0\n",
            "08:52:05.857823 IP 172.28.0.1.35416 > f2679a670e89.8080: Flags [P.], seq 8912:9541, ack 11773, win 501, options [nop,nop,TS val 2790531230 ecr 2464090667], length 629: HTTP: GET /socket.io/?EIO=3&sid=FeGynIQFJbpL3xgMAAAA&t=ObtfYcu&transport=polling HTTP/1.1\n",
            "08:52:05.888547 IP f2679a670e89.8080 > 172.28.0.1.35416: Flags [P.], seq 11773:12636, ack 9541, win 501, options [nop,nop,TS val 2464091032 ecr 2790531230], length 863: HTTP: HTTP/1.1 200 OK\n",
            "08:52:05.888585 IP 172.28.0.1.35416 > f2679a670e89.8080: Flags [.], ack 12636, win 501, options [nop,nop,TS val 2790531261 ecr 2464091032], length 0\n",
            "08:52:06.195928 IP 172.28.0.1.35416 > f2679a670e89.8080: Flags [P.], seq 9541:10170, ack 12636, win 501, options [nop,nop,TS val 2790531568 ecr 2464091032], length 629: HTTP: GET /socket.io/?EIO=3&sid=FeGynIQFJbpL3xgMAAAA&t=ObtfYi2&transport=polling HTTP/1.1\n",
            "08:52:06.197806 IP f2679a670e89.8080 > 172.28.0.1.35416: Flags [P.], seq 12636:13500, ack 10170, win 501, options [nop,nop,TS val 2464091341 ecr 2790531568], length 864: HTTP: HTTP/1.1 200 OK\n",
            "08:52:06.197848 IP 172.28.0.1.35416 > f2679a670e89.8080: Flags [.], ack 13500, win 501, options [nop,nop,TS val 2790531570 ecr 2464091341], length 0\n",
            "08:52:06.554242 IP 172.28.0.1.35416 > f2679a670e89.8080: Flags [P.], seq 10170:10799, ack 13500, win 501, options [nop,nop,TS val 2790531926 ecr 2464091341], length 629: HTTP: GET /socket.io/?EIO=3&sid=FeGynIQFJbpL3xgMAAAA&t=ObtfYni&transport=polling HTTP/1.1\n",
            "08:52:06.555767 IP f2679a670e89.8080 > 172.28.0.1.35416: Flags [P.], seq 13500:14362, ack 10799, win 501, options [nop,nop,TS val 2464091699 ecr 2790531926], length 862: HTTP: HTTP/1.1 200 OK\n",
            "08:52:06.555797 IP 172.28.0.1.35416 > f2679a670e89.8080: Flags [.], ack 14362, win 501, options [nop,nop,TS val 2790531928 ecr 2464091699], length 0\n",
            "\n",
            "143 packets captured\n",
            "144 packets received by filter\n",
            "0 packets dropped by kernel\n"
          ]
        }
      ]
    }
  ]
}