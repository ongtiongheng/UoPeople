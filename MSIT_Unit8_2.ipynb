{
  "nbformat": 4,
  "nbformat_minor": 0,
  "metadata": {
    "colab": {
      "provenance": [],
      "authorship_tag": "ABX9TyOW08bspWsIaY/uV+gC35Uu",
      "include_colab_link": true
    },
    "kernelspec": {
      "name": "python3",
      "display_name": "Python 3"
    },
    "language_info": {
      "name": "python"
    }
  },
  "cells": [
    {
      "cell_type": "markdown",
      "metadata": {
        "id": "view-in-github",
        "colab_type": "text"
      },
      "source": [
        "<a href=\"https://colab.research.google.com/github/ongtiongheng/UoPeople/blob/main/MSIT_Unit8_2.ipynb\" target=\"_parent\"><img src=\"https://colab.research.google.com/assets/colab-badge.svg\" alt=\"Open In Colab\"/></a>"
      ]
    },
    {
      "cell_type": "markdown",
      "source": [
        "To fulfill the requirements of completing the tasks outlined in Section 8.2 of the portfolio, I require the completion of the following tasks from Unit 7.3, which serve as a prerequisite.\n",
        "\n",
        "\n",
        "**Read**\n",
        "https://my.uopeople.edu/pluginfile.php/1713555/mod_page/content/5/TLCL-19.01.pdf\n",
        "\n",
        "**at Chapter 17: Searching for Files**\n",
        "\n",
        "with the following commands\n",
        "\n",
        "$ mkdir -p playground/dir-{001..100}\n",
        "\n",
        "$ touch playground/dir-{001..100}/file-{A..Z}\n",
        "\n"
      ],
      "metadata": {
        "id": "ULvCOI5CdgH7"
      }
    },
    {
      "cell_type": "code",
      "source": [
        "!mkdir -p playground/dir-{001..100}"
      ],
      "metadata": {
        "id": "clpbCI9vdinj"
      },
      "execution_count": null,
      "outputs": []
    },
    {
      "cell_type": "code",
      "source": [
        "!ls -l playground/ | head -10"
      ],
      "metadata": {
        "colab": {
          "base_uri": "https://localhost:8080/"
        },
        "id": "_5tIVlZSd3-M",
        "outputId": "05acaeb6-49aa-4208-8061-027878d0b459"
      },
      "execution_count": null,
      "outputs": [
        {
          "output_type": "stream",
          "name": "stdout",
          "text": [
            "total 400\n",
            "drwx------ 2 root root 4096 Aug  7 08:04 dir-001\n",
            "drwx------ 2 root root 4096 Aug  7 08:04 dir-002\n",
            "drwx------ 2 root root 4096 Aug  7 08:04 dir-003\n",
            "drwx------ 2 root root 4096 Aug  7 08:04 dir-004\n",
            "drwx------ 2 root root 4096 Aug  7 08:04 dir-005\n",
            "drwx------ 2 root root 4096 Aug  7 08:04 dir-006\n",
            "drwx------ 2 root root 4096 Aug  7 08:04 dir-007\n",
            "drwx------ 2 root root 4096 Aug  7 08:04 dir-008\n",
            "drwx------ 2 root root 4096 Aug  7 08:04 dir-009\n"
          ]
        }
      ]
    },
    {
      "cell_type": "code",
      "source": [
        "!touch playground/dir-{001..100}/file-{A..Z}"
      ],
      "metadata": {
        "id": "lZcSptzNeBU0"
      },
      "execution_count": null,
      "outputs": []
    },
    {
      "cell_type": "markdown",
      "source": [
        "check to see whether touch has updated the timestamp\n"
      ],
      "metadata": {
        "id": "VFi8amFGeZ1c"
      }
    },
    {
      "cell_type": "code",
      "source": [
        "!ls -l playground/ | head -10"
      ],
      "metadata": {
        "colab": {
          "base_uri": "https://localhost:8080/"
        },
        "id": "QCF-fnnneY88",
        "outputId": "bdeccd6b-f13c-4a35-e1b7-3e940e1ca7f7"
      },
      "execution_count": null,
      "outputs": [
        {
          "output_type": "stream",
          "name": "stdout",
          "text": [
            "total 400\n",
            "drwx------ 2 root root 4096 Aug  7 08:04 dir-001\n",
            "drwx------ 2 root root 4096 Aug  7 08:04 dir-002\n",
            "drwx------ 2 root root 4096 Aug  7 08:04 dir-003\n",
            "drwx------ 2 root root 4096 Aug  7 08:04 dir-004\n",
            "drwx------ 2 root root 4096 Aug  7 08:04 dir-005\n",
            "drwx------ 2 root root 4096 Aug  7 08:04 dir-006\n",
            "drwx------ 2 root root 4096 Aug  7 08:04 dir-007\n",
            "drwx------ 2 root root 4096 Aug  7 08:04 dir-008\n",
            "drwx------ 2 root root 4096 Aug  7 08:04 dir-009\n"
          ]
        }
      ]
    },
    {
      "cell_type": "code",
      "source": [
        "!find playground -type f -name 'file-A' | head -10"
      ],
      "metadata": {
        "colab": {
          "base_uri": "https://localhost:8080/"
        },
        "id": "Mh_XCBSterhD",
        "outputId": "468e3466-feeb-4856-bccf-9f9f020e8f00"
      },
      "execution_count": null,
      "outputs": [
        {
          "output_type": "stream",
          "name": "stdout",
          "text": [
            "playground/dir-058/file-A\n",
            "playground/dir-087/file-A\n",
            "playground/dir-018/file-A\n",
            "playground/dir-097/file-A\n",
            "playground/dir-008/file-A\n",
            "playground/dir-076/file-A\n",
            "playground/dir-024/file-A\n",
            "playground/dir-084/file-A\n",
            "playground/dir-044/file-A\n",
            "playground/dir-061/file-A\n"
          ]
        }
      ]
    }
  ]
}